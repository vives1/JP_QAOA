{
 "cells": [
  {
   "cell_type": "code",
   "execution_count": 27,
   "metadata": {
    "scrolled": true
   },
   "outputs": [
    {
     "name": "stdout",
     "output_type": "stream",
     "text": [
      "[ 2.25 -0.25 -1.25 -0.75 -0.75 -1.25 -0.25  2.25]\n",
      "[[1. 0. 0. 0. 0. 0. 0. 0.]\n",
      " [0. 1. 0. 0. 0. 0. 0. 0.]\n",
      " [0. 0. 1. 0. 0. 0. 0. 0.]\n",
      " [0. 0. 0. 1. 0. 0. 0. 0.]\n",
      " [0. 0. 0. 0. 1. 0. 0. 0.]\n",
      " [0. 0. 0. 0. 0. 1. 0. 0.]\n",
      " [0. 0. 0. 0. 0. 0. 1. 0.]\n",
      " [0. 0. 0. 0. 0. 0. 0. 1.]]\n"
     ]
    }
   ],
   "source": [
    "# 3 spin example\n",
    "import numpy as np\n",
    "from numpy import linalg as LA\n",
    "\n",
    "\n",
    "I = np.identity((2))\n",
    "X = [[0,1],[1,0]]\n",
    "Z = [[1,0],[0,-1]]\n",
    "z1 = np.kron(Z,np.kron(I,I))\n",
    "z2 = np.kron(I,np.kron(Z,I))\n",
    "z3 = np.kron(I,np.kron(I,Z))\n",
    "\n",
    "x1 = np.kron(X,np.kron(I,I))\n",
    "x2 = np.kron(I,np.kron(X,I))\n",
    "x3 = np.kron(I,np.kron(I,X))\n",
    "\n",
    "J = [1,0.75,0.5]\n",
    "\n",
    "zs = J[0]*np.dot(z1,z2)+J[1]*np.dot(z2,z3)+J[2]*np.dot(z1,z3)\n",
    "xs = x1+x2+x3\n",
    "\n",
    "H = zs \n",
    "e_val,e_vect = LA.eig(H)\n",
    "print(e_val)\n",
    "print(e_vect)"
   ]
  },
  {
   "cell_type": "code",
   "execution_count": 31,
   "metadata": {},
   "outputs": [
    {
     "data": {
      "text/plain": [
       "'\\ndef H(t):\\n    return(h_z*lambda_t(t)*Z + h_x*(1-lambda_t(t))*X)\\n\\n# Print GS for lambda = 0, lambda = 1, note the LA.eig might not return ordred \\n# e_vals and e_vect \\ne_val_1,e_vect_1 = LA.eig(H(0))\\ne_val_2,e_vect_2 = LA.eig(H(T))\\n\\n\\nprint(\"Eigenvalues for lambda = 0: \" + str(e_val_1))\\nprint(\"Eigenstates for lambda = 0: \" + str(e_vect_1))\\n\\nprint(\"Eigenvalues for lambda = 1: \" + str(e_val_2))\\nprint(\"Eigenstates for lambda = 1: \" + str(e_vect_2))\\n'"
      ]
     },
     "execution_count": 31,
     "metadata": {},
     "output_type": "execute_result"
    }
   ],
   "source": [
    "# Ground state X and Z\n",
    "\n",
    "I = np.identity((2))\n",
    "X = np.array([[0,1],[1,0]])\n",
    "Z = np.array([[1,0],[0,-1]])\n",
    "h_z = 1\n",
    "h_x = 1\n",
    "\n",
    "def H(t):\n",
    "    return(h_z*lambda_t(t)*Z + h_x*(1-lambda_t(t))*X)\n",
    "\n",
    "# Print GS for lambda = 0, lambda = 1, note the LA.eig might not return ordred \n",
    "# e_vals and e_vect \n",
    "e_val_1,e_vect_1 = LA.eig(H(0))\n",
    "e_val_2,e_vect_2 = LA.eig(H(T))\n",
    "\n",
    "\n",
    "print(\"Eigenvalues for lambda = 0: \" + str(e_val_1))\n",
    "print(\"Eigenstates for lambda = 0: \" + str(e_vect_1))\n",
    "\n",
    "print(\"Eigenvalues for lambda = 1: \" + str(e_val_2))\n",
    "print(\"Eigenstates for lambda = 1: \" + str(e_vect_2))\n"
   ]
  },
  {
   "cell_type": "code",
   "execution_count": 10,
   "metadata": {},
   "outputs": [],
   "source": [
    "from scipy.linalg import expm\n",
    "import matplotlib.pyplot as plt\n",
    "\n",
    "# Single spin annealing\n",
    "# H(lambda) = lambda(t)*h_z*fermi_Z + (1-lambda(t))*h_x*fermi_X\n",
    "# h = h_z = h_x, assume for now h = 1\n",
    "# let total time T = 100\n",
    "# let lamdba(t) = t(1/100), so a linear lambda for now\n",
    "\n",
    "def F_single_spin(h_x,h_z,T,dt):\n",
    "\n",
    "    I = np.identity((2))\n",
    "    X = np.array([[0,1],[1,0]])\n",
    "    Z = np.array([[1,0],[0,-1]])\n",
    "\n",
    "    def H(t):\n",
    "        return(h_z*lambda_t(t,T)*Z + h_x*(1-lambda_t(t,T))*X)\n",
    "\n",
    "    # Print GS for lambda = 0, lambda = 1, note the LA.eig might not return ordred \n",
    "    # e_vals and e_vect \n",
    "    e_val_1,e_vect_1 = LA.eig(H(0))\n",
    "    e_val_2,e_vect_2 = LA.eig(H(T))\n",
    "\n",
    "    '''\n",
    "    print(\"Eigenvalues for lambda = 0: \" + str(e_val_1))\n",
    "    print(\"Eigenstates for lambda = 0: \" + str(e_vect_1))\n",
    "\n",
    "    print(\"Eigenvalues for lambda = 1: \" + str(e_val_2))\n",
    "    print(\"Eigenstates for lambda = 1: \" + str(e_vect_2))\n",
    "    '''\n",
    "\n",
    "    # set state 0 as the ground state (lowest eigenvalue) of lambda = 0 hamiltonian\n",
    "    # for state_0, want e_val = -1 corresponding e_state is 1/sqrt(2)[1,-1]\n",
    "    # for state_T, want e_val = -1 corresponding e_state is 1/sqrt(2)[0,1]\n",
    "    state_0_gs = e_vect_1[0]\n",
    "    state_T_gs = e_vect_2[1]\n",
    "\n",
    "\n",
    "    # Now do Trotter decomposition for good time step (small enough to approximate cross \n",
    "    #                                                                                term)\n",
    "    # remember e^(xA) = 1 + xA + 1/2 x^2 (A)^2 + O(x^3)\n",
    "    # also, P pauli, e^(i*a*P) = I*cos(a) + i*A*sin(a)\n",
    "    # note state(t + dt) = exp{-i*H(t)dt} * state(0)\n",
    "    # and trotter:  \n",
    "    # exp{-i*H(t)dt} = exp{-i*h_z*lambda_t(t)*Z*dt}*exp{-i*h_x*(1-lambda_t(t))*X*dt}\n",
    "    #                                                                       *exp{O(dt^2)}\n",
    "    # dropping O(dt^2) for small dt -> 0\n",
    "    # state(t + dt) = exp{-i*h_z*lambda_t(t)*Z*dt}*exp{-i*h_x*(1-lambda_t(t))*X*dt} \n",
    "    #                                                                             *state(0)\n",
    "    # get the final state\n",
    "    # dt = 0.01 \n",
    "    steps = int(T/dt)\n",
    "    state_T = state_0_gs\n",
    "\n",
    "    '''\n",
    "    arr = np.arange(0,T,dt)\n",
    "    plt.plot(lambda_t(arr))\n",
    "    plt.xlabel(\"time\")\n",
    "    plt.ylabel(\"$\\lambda(t)$\")\n",
    "    plt.title(\"Shape of $\\lambda$\")\n",
    "    plt.show\n",
    "    '''\n",
    "\n",
    "    for i in range(steps):\n",
    "        im = complex(0,1) # define the imaginary unit\n",
    "        exp1 = expm(-im*h_z*lambda_t(i*dt,T)*Z*dt)\n",
    "        exp2 = expm(-im*h_x*(1-lambda_t(i*dt,T))*X*dt)\n",
    "        exps = np.dot(exp1,exp2)\n",
    "        state_T = np.dot(exps,state_T)\n",
    "\n",
    "    # Compute fidelity: |<state_T_gs|state_T>|^2\n",
    "    return abs(np.dot(state_T_gs,state_T))**2\n",
    "\n",
    "\n"
   ]
  },
  {
   "cell_type": "code",
   "execution_count": 11,
   "metadata": {
    "scrolled": false
   },
   "outputs": [
    {
     "data": {
      "text/plain": [
       "<function matplotlib.pyplot.show(*args, **kw)>"
      ]
     },
     "execution_count": 11,
     "metadata": {},
     "output_type": "execute_result"
    },
    {
     "data": {
      "image/png": "[encoded data removed]",
      "text/plain": [
       "<Figure size 432x288 with 1 Axes>"
      ]
     },
     "metadata": {
      "needs_background": "light"
     },
     "output_type": "display_data"
    }
   ],
   "source": [
    "# let h_x = h_z = 1\n",
    "# dt = 0.1\n",
    "# define the linear lamda function given T\n",
    "def lambda_t(t,T):\n",
    "    if (T == 0):\n",
    "        return 0\n",
    "    return t*(1/T)\n",
    "\n",
    "# Try diferent T's and test Fidelity\n",
    "TS = np.arange(0,200)\n",
    "FS = np.empty(TS.shape[0])\n",
    "\n",
    "for i in range(TS.shape[0]):\n",
    "    FS[i] = F_single_spin(1,1,TS[i],0.1)\n",
    "\n",
    "    \n",
    "plt.plot(TS,FS)\n",
    "plt.xlabel(\"T\")\n",
    "plt.ylabel(\"Fidelity\")\n",
    "plt.title(\"T vs Fidelity\")\n",
    "plt.show\n"
   ]
  },
  {
   "cell_type": "code",
   "execution_count": 14,
   "metadata": {},
   "outputs": [
    {
     "name": "stdout",
     "output_type": "stream",
     "text": [
      "Fidelity for linear: 0.9999947929382582\n",
      "Fidelity for tanh: 0.6794000848036618\n",
      "Fidelity for arctan: 0.8666626287275968\n",
      "Fidelity for $ln((1-e)*x/T + 1)$: 0.9999966096285944\n",
      "Fidelity for $e^{x-T}$: 0.5229547905407862\n"
     ]
    },
    {
     "data": {
      "image/png": "[encoded data removed]",
      "text/plain": [
       "<Figure size 432x288 with 1 Axes>"
      ]
     },
     "metadata": {
      "needs_background": "light"
     },
     "output_type": "display_data"
    }
   ],
   "source": [
    "# fix T = 200, dt = 0.1, h_x = h_z = 1\n",
    "# Now let's find an optimal lambda function\n",
    "# Try linear\n",
    "# for above linear try: tanh, arctan, (1-e^-x) and ln((e-1)x/T + 1)\n",
    "# for below liear try: e^(x-T)\n",
    "\n",
    "\n",
    "T = 200\n",
    "dt = 0.1\n",
    "\n",
    "arr = np.arange(0,T)    \n",
    "\n",
    "ab1 = np.empty(arr.shape[0])\n",
    "for i in range(arr.shape[0]):\n",
    "    ab1[i] = 1-np.exp(-arr[i])\n",
    "    \n",
    "\n",
    "ab2 = np.empty(arr.shape[0])\n",
    "for i in range(arr.shape[0]):\n",
    "    ab2[i] = np.log((np.exp(1)-1)*arr[i]/T + 1)\n",
    "    \n",
    "bl1 = np.empty(arr.shape[0])\n",
    "for i in range(arr.shape[0]):\n",
    "    bl1[i] = np.exp(arr[i]-T+1)\n",
    "    \n",
    "plt.plot(arr/T, label = \"linear\")\n",
    "plt.plot(np.tanh(arr), label = \"tanh\")\n",
    "plt.plot(np.arctan(arr)/(np.pi/2), label = \"arctan\")  \n",
    "plt.plot(ab2, label = \"$ln((1-e)*x/T + 1)$\")\n",
    "plt.plot(bl1, label = \"$e^{x-T}$\")\n",
    "plt.xlabel(\"time\")\n",
    "plt.ylabel(\"$\\lambda(t)$\")\n",
    "plt.title(\"Shapes of $\\lambda$\")\n",
    "plt.legend()\n",
    "plt.show\n",
    "\n",
    "# Linear \n",
    "def lambda_t(t,T):\n",
    "    return t*(1/T)\n",
    "\n",
    "print(\"Fidelity for linear: \" + str(F_single_spin(1,1,T,0.1)))\n",
    "\n",
    "# tanh \n",
    "def lambda_t(t,T):\n",
    "    return np.tanh(t)\n",
    "\n",
    "print(\"Fidelity for tanh: \" + str(F_single_spin(1,1,T,0.1)))\n",
    "\n",
    "# arctan \n",
    "def lambda_t(t,T):\n",
    "    return np.arctan(t)/(np.pi/2)\n",
    "\n",
    "print(\"Fidelity for arctan: \" + str(F_single_spin(1,1,T,0.1)))\n",
    "\n",
    "\n",
    "# ln((e-1)x/T + 1)\n",
    "def lambda_t(t,T):\n",
    "    return np.log((np.exp(1)-1)*t/T + 1)\n",
    "\n",
    "print(\"Fidelity for $ln((1-e)*x/T + 1)$: \" + str(F_single_spin(1,1,T,0.1)))\n",
    "\n",
    "# e^{x-T}\n",
    "def lambda_t(t,T):\n",
    "    return np.exp(t-T+1)\n",
    "\n",
    "print(\"Fidelity for $e^{x-T}$: \" + str(F_single_spin(1,1,T,0.1)))\n"
   ]
  },
  {
   "cell_type": "code",
   "execution_count": 8,
   "metadata": {},
   "outputs": [
    {
     "data": {
      "image/png": "[encoded data removed]",
      "text/plain": [
       "<Figure size 432x288 with 1 Axes>"
      ]
     },
     "metadata": {
      "needs_background": "light"
     },
     "output_type": "display_data"
    }
   ],
   "source": [
    "# Plot eigenvalues for fixed T say T = 50 and using linear lambda\n",
    "# Linear \n",
    "def lambda_t(t,T):\n",
    "    return t*(1/T)\n",
    "\n",
    "\n",
    "def eigs_plot(h_x,h_z,T,dt):\n",
    "\n",
    "    I = np.identity((2))\n",
    "    X = np.array([[0,1],[1,0]])\n",
    "    Z = np.array([[1,0],[0,-1]])\n",
    "\n",
    "    def H(t):\n",
    "        return(h_z*lambda_t(t,T)*Z + h_x*(1-lambda_t(t,T))*X)\n",
    "\n",
    "    steps = int(T/dt)\n",
    "\n",
    "    evals1 = np.empty(steps)\n",
    "    evals2 = np.empty(steps)\n",
    "\n",
    "    ar1 = np.arange(steps)\n",
    "    for i in range(steps):\n",
    "        e_val,e_vect = LA.eig(H(i*dt))\n",
    "        evals1[i] = e_val[0]\n",
    "        evals2[i] = e_val[1]\n",
    "        \n",
    "    plt.plot(ar1, evals1, label = \"eval 1\")\n",
    "    plt.plot(ar1, evals2, label = \"eval 2\")\n",
    "    plt.legend()\n",
    "    plt.show()\n",
    "\n",
    "\n",
    "eigs_plot(1,1,200,0.1)\n",
    "\n"
   ]
  },
  {
   "cell_type": "code",
   "execution_count": null,
   "metadata": {},
   "outputs": [],
   "source": []
  }
 ],
 "metadata": {
  "kernelspec": {
   "display_name": "Python 3",
   "language": "python",
   "name": "python3"
  },
  "language_info": {
   "codemirror_mode": {
    "name": "ipython",
    "version": 3
   },
   "file_extension": ".py",
   "mimetype": "text/x-python",
   "name": "python",
   "nbconvert_exporter": "python",
   "pygments_lexer": "ipython3",
   "version": "3.7.4"
  }
 },
 "nbformat": 4,
 "nbformat_minor": 2
}
