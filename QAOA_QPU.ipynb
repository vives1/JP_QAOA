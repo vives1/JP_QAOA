{
 "cells": [
  {
   "cell_type": "code",
   "execution_count": 95,
   "metadata": {},
   "outputs": [],
   "source": [
    "import qiskit\n",
    "import time\n",
    "from matplotlib import pyplot as plt\n",
    "from qiskit import IBMQ\n",
    "import numpy as np\n",
    "from qiskit import*\n",
    "\n"
   ]
  },
  {
   "cell_type": "code",
   "execution_count": 97,
   "metadata": {},
   "outputs": [
    {
     "data": {
      "text/plain": [
       "<AccountProvider for IBMQ(hub='ibm-q', group='open', project='main')>"
      ]
     },
     "execution_count": 97,
     "metadata": {},
     "output_type": "execute_result"
    }
   ],
   "source": [
    "IBMQ.save_account('488a01d1ced1b582bb3182aa638da3e3571b07af5f757f78ad1d05a9f0dfec77bbbf44eb3563259f5238ff2b0fadd3963202ab72b45a65671caa9c47b492882f')\n",
    "IBMQ.load_account()"
   ]
  },
  {
   "cell_type": "code",
   "execution_count": 131,
   "metadata": {},
   "outputs": [],
   "source": [
    "# Function to construct basis vectors\n",
    "def basisF(bKey, bDict):\n",
    "    \n",
    "    p1, p2, p3 = bDict[bKey]\n",
    "    \n",
    "    if p1 == 1:\n",
    "        v1 = [1,0]\n",
    "    else:\n",
    "        v1 = [0,1]\n",
    "        \n",
    "    if p2 == 1:\n",
    "        v2 = [1,0]\n",
    "    else:\n",
    "        v2 = [0,1]\n",
    "        \n",
    "    if p3 == 1:\n",
    "        v3 = [1,0]\n",
    "    else:\n",
    "        v3 = [0,1]\n",
    "    \n",
    "    return np.kron(np.kron(v1, v2), v3)"
   ]
  },
  {
   "cell_type": "code",
   "execution_count": 132,
   "metadata": {},
   "outputs": [],
   "source": [
    "def exp_n3(counts,tot_counts, J):\n",
    "    # Calculate the expectations for n = 3\n",
    "    I = np.identity((2))\n",
    "    X = [[0,1],[1,0]]\n",
    "    Z = [[1,0],[0,-1]]\n",
    "    z1 = np.kron(Z,np.kron(I,I))\n",
    "    z2 = np.kron(I,np.kron(Z,I))\n",
    "    z3 = np.kron(I,np.kron(I,Z))\n",
    "\n",
    "    # Hc is diagonal\n",
    "    Hc = J[0]*np.dot(z1,z2)+J[1]*np.dot(z2,z3)+J[2]*np.dot(z1,z3)\n",
    "#     Hc = z3\n",
    "    \n",
    "    # Basis dict\n",
    "    basisDict = {'000': [0,0,0], '010': [0,1,0], '001': [0,0,1], '101': [1,0,1], '110': [1,1,0], '100': [1,0,0], '011': [0,1,1], '111': [1,1,1]}\n",
    "    \n",
    "#     state = np.empty((2**n))\n",
    "    cont = 0\n",
    "    exptI = 0.0\n",
    "    state = np.zeros((8,))\n",
    "    for i in counts.keys():\n",
    "#         state[cont] = (counts[i]/tot_counts)**1\n",
    "        basisVec = basisF(i, basisDict)\n",
    "        thisState = np.sqrt(counts[i]/tot_counts)*basisVec\n",
    "        state = state + thisState\n",
    "        exptI = exptI + (counts[i]/tot_counts)*np.matmul( np.transpose(basisVec), np.matmul(Hc, basisVec))\n",
    "        cont = cont+1\n",
    "    \n",
    "#     print(exptI)\n",
    "#     basisVec = basisF('110', basisDict)\n",
    "#     print( np.matmul( np.transpose(basisVec), np.matmul(Hc, basisVec)) )\n",
    "        \n",
    "    # Compute expectation\n",
    "    expt = np.matmul( np.transpose(state), np.matmul(Hc, state))\n",
    "\n",
    "#     return np.sum(np.dot(Hc,state))\n",
    "    return expt\n",
    "\n",
    "# print(exp_n3(counts,tot_counts,J))"
   ]
  },
  {
   "cell_type": "code",
   "execution_count": 133,
   "metadata": {},
   "outputs": [],
   "source": [
    "# QAOA body \n",
    "from qiskit.tools.monitor import job_monitor\n",
    "\n",
    "def qaoa_counts(n, J, h, tot_counts, beta, gamma,p): \n",
    "    \n",
    "    \n",
    "    qr = QuantumRegister(n)\n",
    "    cr = ClassicalRegister(n)\n",
    "\n",
    "    circuit = QuantumCircuit(qr, cr)\n",
    "\n",
    "    if (p == 1):\n",
    "        \n",
    "        # Add a H gate on all qubits\n",
    "        for i in range(n):\n",
    "            circuit.h(qr[i])\n",
    "\n",
    "        # apply U(gamma)\n",
    "\n",
    "        for i in range(n-1):\n",
    "            circuit.cx(qr[i], qr[i+1])\n",
    "            circuit.rz(2*gamma*J[i], qr[i+1])\n",
    "            circuit.cx(qr[i], qr[i+1])\n",
    "\n",
    "        # last one n loops to n=0\n",
    "        circuit.cx(qr[n-1], qr[0])\n",
    "        circuit.rz(2*gamma*J[0], qr[0])\n",
    "        circuit.cx(qr[n-1], qr[0])\n",
    "\n",
    "        # apply U(beta)\n",
    "        for i in range(n):\n",
    "            circuit.rx(2*gamma*h[i],qr[i])\n",
    "            circuit.rx(2*beta,qr[i])\n",
    "    \n",
    "    else: \n",
    "        \n",
    "        # Add an H gate on all qubits (just once not every p)\n",
    "        for i in range(n):\n",
    "            circuit.h(qr[i])\n",
    "        \n",
    "        # apply U(gamma) and then U(beta) succesively \n",
    "        for k in range(p):\n",
    "\n",
    "            # apply U(gamma)\n",
    "\n",
    "            for i in range(n-1):\n",
    "                circuit.cx(qr[i], qr[i+1])\n",
    "                circuit.rz(2*gamma[k]*J[i], qr[i+1])\n",
    "                circuit.cx(qr[i], qr[i+1])\n",
    "\n",
    "            # last one n loops to n=0\n",
    "            circuit.cx(qr[n-1], qr[0])\n",
    "            circuit.rz(2*gamma[k]*J[0], qr[0])\n",
    "            circuit.cx(qr[n-1], qr[0])\n",
    "\n",
    "            \n",
    "            # apply U(beta)\n",
    "            for i in range(n):\n",
    "                circuit.rx(2*gamma[k]*h[i],qr[i])\n",
    "                circuit.rx(2*beta[k],qr[i])\n",
    "\n",
    "\n",
    "    circuit.measure(qr,cr)\n",
    "    \n",
    "    # Run on Yorktown\n",
    "#     provider = IBMQ.get_provider(hub='ibm-q-community', group='ug-projects', project='princeton-tureci')\n",
    "#     qcomp = provider.get_backend('ibmq_ourense')\n",
    "#     qcomp = provider.get_backend('ibmq_vigo')\n",
    "\n",
    "    \n",
    "\n",
    "    \n",
    "    provider = IBMQ.get_provider('ibm-q')\n",
    "    qcomp = provider.get_backend('ibmq_5_yorktown')\n",
    "    #simulator = Aer.get_backend('qasm_simulator')\n",
    "    \n",
    "    job = execute(circuit,backend=qcomp)\n",
    "    \n",
    "    job_monitor(job)\n",
    "    \n",
    "    result = job.result()\n",
    "    \n",
    "    counts = result.get_counts(circuit)\n",
    "\n",
    "    plot_histogram(counts)\n",
    "\n",
    "#     tot_counts = 1000\n",
    "#     result = execute(circuit, simulator, shots=tot_counts).result()\n",
    "\n",
    "    return counts\n"
   ]
  },
  {
   "cell_type": "code",
   "execution_count": 134,
   "metadata": {},
   "outputs": [],
   "source": [
    "# QAOA function for a given p for now\n",
    "\n",
    "def qaoa_n3(samples, anglesRandom,J,p):\n",
    "    n = 3\n",
    "    res = np.empty(samples) \n",
    "    \n",
    "    if (p == 1):\n",
    "        beta_res = np.empty((samples))\n",
    "        gamma_res = np.empty((samples))\n",
    "    else:\n",
    "        beta_res = np.empty((samples,p))\n",
    "        gamma_res = np.empty((samples,p))\n",
    "\n",
    "    \n",
    "    # number of shots to run\n",
    "    tot_counts = 1000\n",
    "    \n",
    "    # normal sample fo h \n",
    "    h = np.random.uniform(0, 1, n)\n",
    "\n",
    "    for i in range(n):\n",
    "#         J[i] = -1 \n",
    "        h[i] = 0\n",
    "    \n",
    "    if (anglesRandom == False and p == 1):\n",
    "        # step to make exactly samples number of samples\n",
    "        # input samples should be a perfect square\n",
    "        size_m = np.sqrt(samples)\n",
    "        beta = np.linspace(0,np.pi*2, size_m)\n",
    "        gamma = np.linspace(0,np.pi*2, size_m)\n",
    "        \n",
    "        for i in range(beta.shape[0]):\n",
    "            for j in range(gamma.shape[0]):\n",
    "                k = beta.shape[0]*i+j\n",
    "                counts = qaoa_counts(n,J,h,tot_counts,beta[i],gamma[i],p)\n",
    "                res[k] = exp_n3(counts,tot_counts,J)\n",
    "                beta_res[k] = beta[i]\n",
    "                gamma_res[k] = gamma[j]\n",
    "       \n",
    "    else:\n",
    "        \n",
    "        for k in range(samples):\n",
    "\n",
    "            beta = np.random.uniform(0, np.pi/2, p)\n",
    "            gamma = np.random.uniform(0, np.pi*2, p)\n",
    "            \n",
    "            counts = qaoa_counts(n,J,h,tot_counts, beta, gamma,p)\n",
    "            res[k] = exp_n3(counts,tot_counts,J)\n",
    "            \n",
    "            if (p == 1):\n",
    "                beta_res[k] = beta\n",
    "                gamma_res[k] = gamma\n",
    "            else: \n",
    "                beta_res[k,:] = beta\n",
    "                gamma_res[k,:] = gamma\n",
    "\n",
    "    \n",
    "    return res,beta_res,gamma_res"
   ]
  },
  {
   "cell_type": "code",
   "execution_count": 93,
   "metadata": {
    "scrolled": false
   },
   "outputs": [
    {
     "name": "stdout",
     "output_type": "stream",
     "text": [
      "Job Status: job has successfully run\n"
     ]
    },
    {
     "data": {
      "image/png": "[encoded data removed]",
      "text/plain": [
       "<Figure size 504x360 with 1 Axes>"
      ]
     },
     "execution_count": 93,
     "metadata": {},
     "output_type": "execute_result"
    }
   ],
   "source": [
    "# For J = [-1,-1,-1] and gamma = 0.829, beta = 0.729\n",
    "\n",
    "from qiskit.visualization import plot_histogram\n",
    "counts = qaoa_counts(3,[-1,-1,-1],[0,0,0],1000, [0.3686599, 0.77223737, 1.41098704, 1.56135136], [1.33134074, 0.94943944, 5.2386772, 2.08326546],4)\n",
    "plot_histogram(counts)\n"
   ]
  },
  {
   "cell_type": "code",
   "execution_count": 214,
   "metadata": {},
   "outputs": [],
   "source": [
    "# Now do miniziation \n",
    "J = [1,0.6,0.3]\n",
    "p = 1\n",
    "def qaoa_expect(angles):\n",
    "    beta = angles[:p]\n",
    "    gamma = angles[p:]\n",
    "\n",
    "    n,h,tot_counts = 3,[0,0,0],1000\n",
    "    counts = qaoa_counts(n,J,h,tot_counts, beta, gamma,p)\n",
    "    return exp_n3(counts,tot_counts,J)"
   ]
  },
  {
   "cell_type": "code",
   "execution_count": 215,
   "metadata": {
    "scrolled": false
   },
   "outputs": [
    {
     "name": "stdout",
     "output_type": "stream",
     "text": [
      "Job Status: job has successfully run\n",
      "Job Status: job has successfully run\n",
      "Job Status: job has successfully run\n",
      "Job Status: job has successfully run\n",
      "Job Status: job has successfully run\n",
      "Job Status: job has successfully run\n",
      "Job Status: job has successfully run\n",
      "Job Status: job has successfully run\n",
      "Job Status: job has successfully run\n",
      "Job Status: job has successfully run\n",
      "Job Status: job has successfully run\n",
      "Job Status: job has successfully run\n",
      "Job Status: job has successfully run\n",
      "Job Status: job has successfully run\n",
      "Job Status: job has successfully run\n",
      "Job Status: job has successfully run\n",
      "Job Status: job has successfully run\n",
      "Job Status: job has successfully run\n",
      "Job Status: job has successfully run\n",
      "Job Status: job has successfully run\n"
     ]
    }
   ],
   "source": [
    "from scipy.optimize import minimize\n",
    "\n",
    "# Run 10 samples, obtain first optimal min for beta gamma, then run again to obtain a better min\n",
    "p = 1\n",
    "# run with random angles\n",
    "# try 10 samples to find a good guess due to QPU ressources\n",
    "res,beta_res,gamma_res = qaoa_n3(20, True,J,p)"
   ]
  },
  {
   "cell_type": "code",
   "execution_count": 216,
   "metadata": {
    "scrolled": false
   },
   "outputs": [],
   "source": [
    "imin_first = np.argmin(res)\n",
    "beta_first = beta_res[imin_first]\n",
    "gamma_first = gamma_res[imin_first]\n",
    "\n",
    "# guesses = np.empty((2,p))\n",
    "# guesses[0,:] = beta_first\n",
    "# guesses[1,:] = gamma_first\n",
    "\n",
    "guesses = np.empty((2*p))\n",
    "guesses[:p] = beta_first\n",
    "guesses[p:] = gamma_first"
   ]
  },
  {
   "cell_type": "code",
   "execution_count": 219,
   "metadata": {
    "scrolled": false
   },
   "outputs": [],
   "source": [
    "# Optimize objective funciton with the first guesses\n",
    "mm = minimize(qaoa_expect,guesses, method='BFGS')"
   ]
  },
  {
   "cell_type": "code",
   "execution_count": 171,
   "metadata": {},
   "outputs": [
    {
     "name": "stdout",
     "output_type": "stream",
     "text": [
      "      fun: -0.38899999999999996\n",
      " hess_inv: array([[1, 0],\n",
      "       [0, 1]])\n",
      "      jac: array([7113539.584,  738197.504])\n",
      "  message: 'Desired error not necessarily achieved due to precision loss.'\n",
      "     nfev: 104\n",
      "      nit: 0\n",
      "     njev: 23\n",
      "   status: 2\n",
      "  success: False\n",
      "        x: array([0.29960102, 3.48322681])\n"
     ]
    }
   ],
   "source": [
    "print(mm)"
   ]
  },
  {
   "cell_type": "code",
   "execution_count": 218,
   "metadata": {},
   "outputs": [
    {
     "name": "stdout",
     "output_type": "stream",
     "text": [
      "Job Status: job has successfully run\n",
      "-0.18399999999999997\n"
     ]
    }
   ],
   "source": [
    "print(qaoa_expect(guesses))"
   ]
  },
  {
   "cell_type": "code",
   "execution_count": 217,
   "metadata": {},
   "outputs": [
    {
     "name": "stdout",
     "output_type": "stream",
     "text": [
      "[1.05946275 0.30077251]\n"
     ]
    }
   ],
   "source": [
    "print(guesses)"
   ]
  },
  {
   "cell_type": "code",
   "execution_count": null,
   "metadata": {},
   "outputs": [],
   "source": []
  }
 ],
 "metadata": {
  "kernelspec": {
   "display_name": "Python 3",
   "language": "python",
   "name": "python3"
  },
  "language_info": {
   "codemirror_mode": {
    "name": "ipython",
    "version": 3
   },
   "file_extension": ".py",
   "mimetype": "text/x-python",
   "name": "python",
   "nbconvert_exporter": "python",
   "pygments_lexer": "ipython3",
   "version": "3.7.4"
  }
 },
 "nbformat": 4,
 "nbformat_minor": 2
}
